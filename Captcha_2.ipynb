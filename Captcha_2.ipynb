{
 "cells": [
  {
   "cell_type": "code",
   "execution_count": 1,
   "id": "56e08ff2",
   "metadata": {},
   "outputs": [],
   "source": [
    "import matplotlib.pyplot as plt\n",
    "import keras_ocr\n",
    "import os"
   ]
  },
  {
   "cell_type": "code",
   "execution_count": 14,
   "id": "f46b16bf",
   "metadata": {},
   "outputs": [
    {
     "name": "stdout",
     "output_type": "stream",
     "text": [
      "['15fhg6.png', '1shu6v.png', '215e9h.png', '23cgy8.png', '25MWMA.png', '2afp94.png', '2aud43.png', '2b8pw9.png', '2DJ8JT.png', '2u1zh8.png', '2vugz3.png', '3h42ns.png', '3M6TR6.png', '3u8tz3.png', '47m2b.png', '48bb2r.png', '4N35U5.png', '53mn8.png', '53wb8.png', '54NMVU.png', '554ttt.png', '58b5m.png', '58pnp.png', '5u14wp.png', '5zkdge.png', '623T7J.png', '62nb3.png', '666y2m.png', '6FLDD6.png', '6kzb45.png', '6YJ3MA.png', '6ykt2t.png', '72m6f.png', '73mnx.png', '74eyg.png', '753pzg.png', '7dep61.png', '7k12h7.png', '7sg9ff.png', '7uaz9y.png', '7WAN4B.png', '86a8v8.png', '898me2.png', '8C657T.png', '8CF6UB.png', '8ef26v.png', '8f7k1p.png', '8JWY8A.png', '8MCT7J.png', '8zm59z.png', '936u63.png', '946tmt.png', '97v1ut.png', '9853da.png', '9gbfb7.png', '9PATN5.png', '9r24zt.png', '9sea75.png', 'AWE5FJ.png', 'b252vt.png', 'b3vpz5.png', 'b73kz5.png', 'BEHY6V.png', 'BR8XX5.png', 'cc625d.png', 'CFD6EH.png', 'ckpsny.png', 'clh4yu.png', 'cn95vk.png', 'd3zwha.png', 'd76pb5.png', 'DA2HMY.png', 'DFW9XK.png', 'dhpgmg.png', 'DHUJ5G.png', 'DVGFBW.png', 'e55g3b.png', 'e6b7ea.png', 'eb8gey.png', 'ef71t2.png', 'egb5z5.png', 'ehb8g5.png', 'ely199.png', 'enretd.png', 'er2zsw.png', 'F6LB67.png', 'fc558h.png', 'fsbbz6.png', 'G4VSGJ.png', 'g52wdf.png', 'GABYXE.png', 'gzagh4.png', 'h54fml.png', 'hpaamw.png', 'hrukfa.png', 'JDCV4B.png', 'JN37PM.png', 'K457zp.png', 'KB883V.png', 'KHN3P6.png', 'KT41CC.png', 'ku54wn.png', 'kzdgyh.png', 'l4hr2w.png', 'L6FF4K.png', 'lhzmcw.png', 'LKSW5G.png', 'LVMTCJ.png', 'LWKD6W.png', 'm63f7i.png', 'n1hme9.png', 'N5CE4C.png', 'n9hk29.png', 'nmcbbl.png', 'nr73he.png', 'nrnkm8.png', 'P48U6H.png', 'p54w8a.png', 'pgn46d.png', 'PS6W3Y.png', 'PVGSP6.png', 'r6nb2w.png', 'RJ4JJX.png', 'RJRG2R.png', 'rrpz9r.png', 'rts6bc.png', 'rv7u8f.png', 'RYHRRH.png', 's4g8bh.png', 'setysy.png', 'sm7y8y.png', 'szhfvp.png', 'T2LCUC.png', 'TBUF4F.png', 'TKPLB6.png', 'TNHNKA.png', 'twauyn.png', 'TWY26E.png', 'u3de24.png', 'U64B6L.png', 'UMJX3F.png', 'UR2FCY.png', 'v7wykw.png', 'VC69BY.png', 'vens49.png', 'VLBMBN.png', 'vnvy21.png', 'vrkmu7.png', 'vsd47t.png', 'vwgga1.png', 'w3s16s.png', 'w56vs8.png', 'w9p3vf.png', 'wfeaky.png', 'wmwu8u.png', 'wpcdrb.png', 'wphbkt.png', 'WXGBGK.png', 'X7G8GA.png', 'X84SB9.png', 'XDUT3H.png', 'XPAY4D.png', 'XY5XWM.png', 'YJGAT1.png', 'yskpwg.png', 'yuavwl.png', 'zn25w9.png', 'zplnst.png', 'zyckmv.png']\n"
     ]
    }
   ],
   "source": [
    "#path = r\"C:/Users/hp\\Downloads/captcha_images/\"\n",
    "l=[]\n",
    "# list files in img directory\n",
    "files = os.listdir(path)\n",
    "\n",
    "for file in files:\n",
    "    # make sure file is an image\n",
    "    if file.endswith(('.png')):\n",
    "        l.append(file)\n",
    "\n",
    "print(l)"
   ]
  },
  {
   "cell_type": "code",
   "execution_count": 9,
   "id": "365fb995",
   "metadata": {
    "scrolled": true
   },
   "outputs": [
    {
     "name": "stdout",
     "output_type": "stream",
     "text": [
      "Looking for C:\\Users\\hp\\.keras-ocr\\craft_mlt_25k.h5\n",
      "Looking for C:\\Users\\hp\\.keras-ocr\\crnn_kurapan.h5\n"
     ]
    }
   ],
   "source": [
    "pipeline = keras_ocr.pipeline.Pipeline()"
   ]
  },
  {
   "cell_type": "code",
   "execution_count": 15,
   "id": "c2a0a8d0",
   "metadata": {},
   "outputs": [],
   "source": [
    "images = [\n",
    "    keras_ocr.tools.read(image) for image in l\n",
    "]    "
   ]
  },
  {
   "cell_type": "code",
   "execution_count": 17,
   "id": "1ccc85ff",
   "metadata": {},
   "outputs": [
    {
     "data": {
      "text/plain": [
       "<matplotlib.image.AxesImage at 0x1298b9320f0>"
      ]
     },
     "execution_count": 17,
     "metadata": {},
     "output_type": "execute_result"
    },
    {
     "data": {
      "image/png": "[encoded data removed]",
      "text/plain": [
       "<Figure size 144x288 with 1 Axes>"
      ]
     },
     "metadata": {
      "needs_background": "light"
     },
     "output_type": "display_data"
    }
   ],
   "source": [
    "plt.figure(figsize = (2,4))\n",
    "plt.imshow(images[1])"
   ]
  },
  {
   "cell_type": "code",
   "execution_count": 21,
   "id": "6934b7d1",
   "metadata": {},
   "outputs": [
    {
     "ename": "error",
     "evalue": "Unknown C++ exception from OpenCV code",
     "output_type": "error",
     "traceback": [
      "\u001b[1;31m---------------------------------------------------------------------------\u001b[0m",
      "\u001b[1;31merror\u001b[0m                                     Traceback (most recent call last)",
      "\u001b[1;32m~\\AppData\\Local\\Temp/ipykernel_22232/1404655503.py\u001b[0m in \u001b[0;36m<module>\u001b[1;34m\u001b[0m\n\u001b[1;32m----> 1\u001b[1;33m \u001b[0mprediction\u001b[0m \u001b[1;33m=\u001b[0m \u001b[0mpipeline\u001b[0m\u001b[1;33m.\u001b[0m\u001b[0mrecognize\u001b[0m\u001b[1;33m(\u001b[0m\u001b[0mimages\u001b[0m\u001b[1;33m)\u001b[0m\u001b[1;33m\u001b[0m\u001b[1;33m\u001b[0m\u001b[0m\n\u001b[0m",
      "\u001b[1;32mc:\\users\\hp\\appdata\\local\\programs\\python\\python37\\lib\\site-packages\\keras_ocr\\pipeline.py\u001b[0m in \u001b[0;36mrecognize\u001b[1;34m(self, images, detection_kwargs, recognition_kwargs)\u001b[0m\n\u001b[0;32m     60\u001b[0m         \u001b[1;32mif\u001b[0m \u001b[0mrecognition_kwargs\u001b[0m \u001b[1;32mis\u001b[0m \u001b[1;32mNone\u001b[0m\u001b[1;33m:\u001b[0m\u001b[1;33m\u001b[0m\u001b[1;33m\u001b[0m\u001b[0m\n\u001b[0;32m     61\u001b[0m             \u001b[0mrecognition_kwargs\u001b[0m \u001b[1;33m=\u001b[0m \u001b[1;33m{\u001b[0m\u001b[1;33m}\u001b[0m\u001b[1;33m\u001b[0m\u001b[1;33m\u001b[0m\u001b[0m\n\u001b[1;32m---> 62\u001b[1;33m         \u001b[0mbox_groups\u001b[0m \u001b[1;33m=\u001b[0m \u001b[0mself\u001b[0m\u001b[1;33m.\u001b[0m\u001b[0mdetector\u001b[0m\u001b[1;33m.\u001b[0m\u001b[0mdetect\u001b[0m\u001b[1;33m(\u001b[0m\u001b[0mimages\u001b[0m\u001b[1;33m=\u001b[0m\u001b[0mimages\u001b[0m\u001b[1;33m,\u001b[0m \u001b[1;33m**\u001b[0m\u001b[0mdetection_kwargs\u001b[0m\u001b[1;33m)\u001b[0m\u001b[1;33m\u001b[0m\u001b[1;33m\u001b[0m\u001b[0m\n\u001b[0m\u001b[0;32m     63\u001b[0m         prediction_groups = self.recognizer.recognize_from_boxes(\n\u001b[0;32m     64\u001b[0m             \u001b[0mimages\u001b[0m\u001b[1;33m=\u001b[0m\u001b[0mimages\u001b[0m\u001b[1;33m,\u001b[0m \u001b[0mbox_groups\u001b[0m\u001b[1;33m=\u001b[0m\u001b[0mbox_groups\u001b[0m\u001b[1;33m,\u001b[0m \u001b[1;33m**\u001b[0m\u001b[0mrecognition_kwargs\u001b[0m\u001b[1;33m\u001b[0m\u001b[1;33m\u001b[0m\u001b[0m\n",
      "\u001b[1;32mc:\\users\\hp\\appdata\\local\\programs\\python\\python37\\lib\\site-packages\\keras_ocr\\detection.py\u001b[0m in \u001b[0;36mdetect\u001b[1;34m(self, images, detection_threshold, text_threshold, link_threshold, size_threshold, **kwargs)\u001b[0m\n\u001b[0;32m    782\u001b[0m             \u001b[0mtext_threshold\u001b[0m\u001b[1;33m=\u001b[0m\u001b[0mtext_threshold\u001b[0m\u001b[1;33m,\u001b[0m\u001b[1;33m\u001b[0m\u001b[1;33m\u001b[0m\u001b[0m\n\u001b[0;32m    783\u001b[0m             \u001b[0mlink_threshold\u001b[0m\u001b[1;33m=\u001b[0m\u001b[0mlink_threshold\u001b[0m\u001b[1;33m,\u001b[0m\u001b[1;33m\u001b[0m\u001b[1;33m\u001b[0m\u001b[0m\n\u001b[1;32m--> 784\u001b[1;33m             \u001b[0msize_threshold\u001b[0m\u001b[1;33m=\u001b[0m\u001b[0msize_threshold\u001b[0m\u001b[1;33m,\u001b[0m\u001b[1;33m\u001b[0m\u001b[1;33m\u001b[0m\u001b[0m\n\u001b[0m\u001b[0;32m    785\u001b[0m         )\n\u001b[0;32m    786\u001b[0m         \u001b[1;32mreturn\u001b[0m \u001b[0mboxes\u001b[0m\u001b[1;33m\u001b[0m\u001b[1;33m\u001b[0m\u001b[0m\n",
      "\u001b[1;32mc:\\users\\hp\\appdata\\local\\programs\\python\\python37\\lib\\site-packages\\keras_ocr\\detection.py\u001b[0m in \u001b[0;36mgetBoxes\u001b[1;34m(y_pred, detection_threshold, text_threshold, link_threshold, size_threshold)\u001b[0m\n\u001b[0;32m    226\u001b[0m         )\n\u001b[0;32m    227\u001b[0m         n_components, labels, stats, _ = cv2.connectedComponentsWithStats(\n\u001b[1;32m--> 228\u001b[1;33m             \u001b[0mnp\u001b[0m\u001b[1;33m.\u001b[0m\u001b[0mclip\u001b[0m\u001b[1;33m(\u001b[0m\u001b[0mtext_score\u001b[0m \u001b[1;33m+\u001b[0m \u001b[0mlink_score\u001b[0m\u001b[1;33m,\u001b[0m \u001b[1;36m0\u001b[0m\u001b[1;33m,\u001b[0m \u001b[1;36m1\u001b[0m\u001b[1;33m)\u001b[0m\u001b[1;33m.\u001b[0m\u001b[0mastype\u001b[0m\u001b[1;33m(\u001b[0m\u001b[1;34m\"uint8\"\u001b[0m\u001b[1;33m)\u001b[0m\u001b[1;33m,\u001b[0m \u001b[0mconnectivity\u001b[0m\u001b[1;33m=\u001b[0m\u001b[1;36m4\u001b[0m\u001b[1;33m\u001b[0m\u001b[1;33m\u001b[0m\u001b[0m\n\u001b[0m\u001b[0;32m    229\u001b[0m         )\n\u001b[0;32m    230\u001b[0m         \u001b[0mboxes\u001b[0m \u001b[1;33m=\u001b[0m \u001b[1;33m[\u001b[0m\u001b[1;33m]\u001b[0m\u001b[1;33m\u001b[0m\u001b[1;33m\u001b[0m\u001b[0m\n",
      "\u001b[1;31merror\u001b[0m: Unknown C++ exception from OpenCV code"
     ]
    }
   ],
   "source": [
    "prediction = pipeline.recognize(images)"
   ]
  },
  {
   "cell_type": "code",
   "execution_count": null,
   "id": "4c2c8696",
   "metadata": {},
   "outputs": [],
   "source": []
  }
 ],
 "metadata": {
  "kernelspec": {
   "display_name": "Python 3 (ipykernel)",
   "language": "python",
   "name": "python3"
  },
  "language_info": {
   "codemirror_mode": {
    "name": "ipython",
    "version": 3
   },
   "file_extension": ".py",
   "mimetype": "text/x-python",
   "name": "python",
   "nbconvert_exporter": "python",
   "pygments_lexer": "ipython3",
   "version": "3.7.2"
  }
 },
 "nbformat": 4,
 "nbformat_minor": 5
}
